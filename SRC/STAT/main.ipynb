{
 "cells": [
  {
   "cell_type": "markdown",
   "metadata": {},
   "source": [
    "## 1. Импорт библиотек"
   ]
  },
  {
   "cell_type": "code",
   "execution_count": 101,
   "metadata": {},
   "outputs": [],
   "source": [
    "import pandas as pd\n",
    "import numpy as np\n",
    "from random import uniform\n",
    "import matplotlib.pyplot as plt\n",
    "import os\n",
    "from math import sqrt"
   ]
  },
  {
   "cell_type": "markdown",
   "metadata": {},
   "source": [
    "## 2. Лаба 1"
   ]
  },
  {
   "cell_type": "markdown",
   "metadata": {},
   "source": [
    "### Функция имитационной модели"
   ]
  },
  {
   "cell_type": "code",
   "execution_count": 21,
   "metadata": {},
   "outputs": [],
   "source": [
    "def Ita(Teta : np.array, x: np.array) -> float:\n",
    "    \"\"\"\n",
    "    Имитационная модель. Линейная по параметрам тета.\\n\n",
    "    param Teta - (np.array) - весовые переменные (вклад входной переменной)\\n\n",
    "    param x - (np.array) - входной вектор\\n\n",
    "    return: (float)\n",
    "    \"\"\"\n",
    "    if x.shape[0] != 3 or Teta.shape[0] != 5:\n",
    "        raise ValueError(\"Размер не соответствует условию\")\n",
    "    return Teta[0]*x[0] + Teta[1]*x[1] + Teta[2]*x[2] + Teta[3]*x[0]*x[1] + Teta[4]*x[0]*x[2]"
   ]
  },
  {
   "cell_type": "markdown",
   "metadata": {},
   "source": [
    "### Вычисление значение отклика"
   ]
  },
  {
   "cell_type": "code",
   "execution_count": 22,
   "metadata": {},
   "outputs": [],
   "source": [
    "def y_response(x : np.array, Teta : np.array, eta : float) -> float:\n",
    "    \"\"\"\n",
    "    Функция отклика\\n\n",
    "    param x - (np.array) - входной вектор\\n\n",
    "    param Teta - (np.array) - весовые переменные (вклад входной переменной)\\n\n",
    "    param eta - (float) - Ошибка наблюдения\n",
    "    \"\"\"\n",
    "    if x.shape[0] != 3 or Teta.shape[0] != 5:\n",
    "        raise ValueError(\"Размер не соответствует условию\")\n",
    "    return Ita(Teta, x) + eta"
   ]
  },
  {
   "cell_type": "markdown",
   "metadata": {},
   "source": [
    "### Генератор x"
   ]
  },
  {
   "cell_type": "code",
   "execution_count": 25,
   "metadata": {},
   "outputs": [],
   "source": [
    "def generator_x(x_min : float = 0, x_max : float = 1, len_x : int = 3) -> np.array:\n",
    "    \"\"\"\n",
    "    Генератор вектора x по равномерному закону заданной длины\\n\n",
    "    param x_min : (float) - минимальное значение\\n\n",
    "    param x_max : (float) - максимальное значение\\n\n",
    "    param len_x : (int) - длина вектора\n",
    "    return: (np.array)\n",
    "    \"\"\"\n",
    "    \n",
    "    if x_min > x_max:\n",
    "        raise ValueError(\"x_min > x_max\")\n",
    "    return np.array([uniform(x_min, x_max) for i in range(len_x)])    "
   ]
  },
  {
   "cell_type": "code",
   "execution_count": 35,
   "metadata": {},
   "outputs": [],
   "source": [
    "def generator_sample_x(x_min : float = 0, x_max : float = 1, len_x : int = 3) -> np.array:\n",
    "    \"\"\"\n",
    "    Сгенерировать значения равномерно по отрезку\n",
    "    param x_min : (float) - минимальное значение\\n\n",
    "    param x_max : (float) - максимальное значение\\n\n",
    "    param len_x : (int) - длина вектора\n",
    "    return: (np.array)\n",
    "    \"\"\"\n",
    "    return np.arange(x_min, x_max+1e-7, (x_max - x_min)/(len_x - 1))\n"
   ]
  },
  {
   "cell_type": "markdown",
   "metadata": {},
   "source": [
    "### Генератор ошибки"
   ]
  },
  {
   "cell_type": "code",
   "execution_count": 102,
   "metadata": {},
   "outputs": [],
   "source": [
    "def generator_deviation(eta : float, len_list : int) -> np.array:\n",
    "    if len_list < 0:\n",
    "        raise ValueError(\"Длина не может быть отрицательной\")\n",
    "    if len_list == 0:\n",
    "        return np.array([])\n",
    "    return np.random.normal(0, sqrt(eta), len_list)"
   ]
  },
  {
   "cell_type": "code",
   "execution_count": 37,
   "metadata": {},
   "outputs": [
    {
     "data": {
      "text/plain": [
       "array([-1.,  0.,  1.])"
      ]
     },
     "execution_count": 37,
     "metadata": {},
     "output_type": "execute_result"
    }
   ],
   "source": [
    "x1 = generator_sample_x(-1, 1, 3)\n",
    "x1\n"
   ]
  },
  {
   "cell_type": "markdown",
   "metadata": {},
   "source": [
    "### Графики функции"
   ]
  },
  {
   "cell_type": "code",
   "execution_count": 40,
   "metadata": {},
   "outputs": [
    {
     "data": {
      "image/png": "[encoded data removed]",
      "text/plain": [
       "<Figure size 640x480 with 1 Axes>"
      ]
     },
     "metadata": {},
     "output_type": "display_data"
    }
   ],
   "source": [
    "x = np.linspace(-1, 1)\n",
    "y = [Ita(np.array([1, 2, 3, 20, 30]), np.array([0, 0, x3])) for x3 in x]\n",
    "plt.plot(x, y)\n",
    "plt.show()"
   ]
  },
  {
   "cell_type": "markdown",
   "metadata": {},
   "source": [
    "### Генератор x"
   ]
  },
  {
   "cell_type": "code",
   "execution_count": null,
   "metadata": {},
   "outputs": [],
   "source": [
    "def generator_x(x_min : float = 0, x_max : float = 1, len_x : int = 3) -> np.array:\n",
    "    \"\"\"\n",
    "    Генератор вектора x по равномерному закону заданной длины\\n\n",
    "    param x_min : (float) - минимальное значение\\n\n",
    "    param x_max : (float) - максимальное значение\\n\n",
    "    param len_x : (int) - длина вектора\n",
    "    return: (np.array)\n",
    "    \"\"\"\n",
    "    \n",
    "    if x_min > x_max:\n",
    "        raise ValueError(\"x_min > x_max\")\n",
    "    return np.array([uniform(x_min, x_max) for i in range(len_x)])"
   ]
  },
  {
   "cell_type": "code",
   "execution_count": 33,
   "metadata": {},
   "outputs": [],
   "source": [
    "def generator_sample_x(x_min : float = 0, x_max : float = 1, len_x : int = 3) -> np.array:\n",
    "    \"\"\"\n",
    "    Сгенерировать значения равномерно по отрезку\n",
    "    param x_min : (float) - минимальное значение\\n\n",
    "    param x_max : (float) - максимальное значение\\n\n",
    "    param len_x : (int) - длина вектора\n",
    "    return: (np.array)\n",
    "    \"\"\"\n",
    "    return np.arange(x_min, x_max, (x_max - x_min)/(len_x - 1))\n"
   ]
  },
  {
   "cell_type": "code",
   "execution_count": 34,
   "metadata": {},
   "outputs": [
    {
     "data": {
      "text/plain": [
       "array([-1.,  0.])"
      ]
     },
     "execution_count": 34,
     "metadata": {},
     "output_type": "execute_result"
    }
   ],
   "source": [
    "x1 = generator_sample_x(-1, 1, 3)\n",
    "x1\n"
   ]
  },
  {
   "cell_type": "markdown",
   "metadata": {},
   "source": [
    "### Генератор x"
   ]
  },
  {
   "cell_type": "code",
   "execution_count": null,
   "metadata": {},
   "outputs": [],
   "source": [
    "def generator_x(x_min : float = 0, x_max : float = 1, len_x : int = 3) -> np.array:\n",
    "    \"\"\"\n",
    "    Генератор вектора x по равномерному закону заданной длины\\n\n",
    "    param x_min : (float) - минимальное значение\\n\n",
    "    param x_max : (float) - максимальное значение\\n\n",
    "    param len_x : (int) - длина вектора\n",
    "    return: (np.array)\n",
    "    \"\"\"\n",
    "    \n",
    "    if x_min > x_max:\n",
    "        raise ValueError(\"x_min > x_max\")\n",
    "    return np.array([uniform(x_min, x_max) for i in range(len_x)])"
   ]
  },
  {
   "cell_type": "markdown",
   "metadata": {},
   "source": [
    "### Вычисление дисперсии"
   ]
  },
  {
   "cell_type": "code",
   "execution_count": 55,
   "metadata": {},
   "outputs": [],
   "source": [
    "def Calc_eta(list_u : np.array, procent : float) -> float:\n",
    "    if procent <= 0 and procent > 1:\n",
    "        raise ValueError(\"Процент находится в диапозоне от 0 до 1\")\n",
    "    mean_u = np.ones(list_u.shape[0]) * list_u.mean()\n",
    "    temp = list_u - mean_u\n",
    "    w = temp.T @ temp / (list_u.shape[0] - 1)\n",
    "    return procent* w"
   ]
  },
  {
   "cell_type": "markdown",
   "metadata": {},
   "source": [
    "### Генерация тестов"
   ]
  },
  {
   "cell_type": "code",
   "execution_count": 42,
   "metadata": {},
   "outputs": [],
   "source": [
    "def gen_test() -> list:\n",
    "    x1 = generator_sample_x(-1, 1, 3)\n",
    "    x2 = generator_sample_x(-1, 1, 3)\n",
    "    x3 = generator_sample_x(-1, 1, 3)\n",
    "    result = []\n",
    "    for x in x1:\n",
    "        for y in x2:\n",
    "            for z in x3:\n",
    "                result.append(np.array([x, y, z]))\n",
    "    return result"
   ]
  },
  {
   "cell_type": "markdown",
   "metadata": {},
   "source": [
    "###  Получаем значения имитационной модели"
   ]
  },
  {
   "cell_type": "code",
   "execution_count": 58,
   "metadata": {},
   "outputs": [],
   "source": [
    "x_test = gen_test()\n",
    "list_u = np.array([Ita(np.array([1, 2, 3, 20, 30]), x) for x in x_test])\n",
    "eta = Calc_eta(list_u, 0.12)"
   ]
  },
  {
   "cell_type": "markdown",
   "metadata": {},
   "source": [
    "### Генерируем значения ошибки "
   ]
  },
  {
   "cell_type": "code",
   "execution_count": 59,
   "metadata": {},
   "outputs": [],
   "source": [
    "list_deviation = generator_deviation(eta, len(list_u))\n"
   ]
  },
  {
   "cell_type": "code",
   "execution_count": 103,
   "metadata": {},
   "outputs": [],
   "source": [
    "list_deviation_1 = generator_deviation(eta, len(list_u))"
   ]
  },
  {
   "cell_type": "markdown",
   "metadata": {},
   "source": [
    "### Получаем отклик"
   ]
  },
  {
   "cell_type": "code",
   "execution_count": 104,
   "metadata": {},
   "outputs": [],
   "source": [
    "y_test = np.array([y_response(x_test[i], np.array([1, 2, 3, 20, 30]), list_deviation_1[i]) for i in range(len(x_test))])"
   ]
  },
  {
   "cell_type": "markdown",
   "metadata": {},
   "source": [
    "### Создание таблицы"
   ]
  },
  {
   "cell_type": "code",
   "execution_count": 110,
   "metadata": {},
   "outputs": [
    {
     "data": {
      "text/html": [
       "<div>\n",
       "<style scoped>\n",
       "    .dataframe tbody tr th:only-of-type {\n",
       "        vertical-align: middle;\n",
       "    }\n",
       "\n",
       "    .dataframe tbody tr th {\n",
       "        vertical-align: top;\n",
       "    }\n",
       "\n",
       "    .dataframe thead th {\n",
       "        text-align: right;\n",
       "    }\n",
       "</style>\n",
       "<table border=\"1\" class=\"dataframe\">\n",
       "  <thead>\n",
       "    <tr style=\"text-align: right;\">\n",
       "      <th></th>\n",
       "      <th>x1</th>\n",
       "      <th>x2</th>\n",
       "      <th>x3</th>\n",
       "      <th>u</th>\n",
       "      <th>eta</th>\n",
       "      <th>y</th>\n",
       "    </tr>\n",
       "  </thead>\n",
       "  <tbody>\n",
       "    <tr>\n",
       "      <th>0</th>\n",
       "      <td>-1.0</td>\n",
       "      <td>-1.0</td>\n",
       "      <td>-1.0</td>\n",
       "      <td>44.0</td>\n",
       "      <td>5.626853</td>\n",
       "      <td>49.626853</td>\n",
       "    </tr>\n",
       "    <tr>\n",
       "      <th>1</th>\n",
       "      <td>-1.0</td>\n",
       "      <td>-1.0</td>\n",
       "      <td>0.0</td>\n",
       "      <td>17.0</td>\n",
       "      <td>-13.404959</td>\n",
       "      <td>3.595041</td>\n",
       "    </tr>\n",
       "    <tr>\n",
       "      <th>2</th>\n",
       "      <td>-1.0</td>\n",
       "      <td>-1.0</td>\n",
       "      <td>1.0</td>\n",
       "      <td>-10.0</td>\n",
       "      <td>1.505348</td>\n",
       "      <td>-8.494652</td>\n",
       "    </tr>\n",
       "    <tr>\n",
       "      <th>3</th>\n",
       "      <td>-1.0</td>\n",
       "      <td>0.0</td>\n",
       "      <td>-1.0</td>\n",
       "      <td>26.0</td>\n",
       "      <td>-1.133659</td>\n",
       "      <td>24.866341</td>\n",
       "    </tr>\n",
       "    <tr>\n",
       "      <th>4</th>\n",
       "      <td>-1.0</td>\n",
       "      <td>0.0</td>\n",
       "      <td>0.0</td>\n",
       "      <td>-1.0</td>\n",
       "      <td>13.999932</td>\n",
       "      <td>12.999932</td>\n",
       "    </tr>\n",
       "    <tr>\n",
       "      <th>5</th>\n",
       "      <td>-1.0</td>\n",
       "      <td>0.0</td>\n",
       "      <td>1.0</td>\n",
       "      <td>-28.0</td>\n",
       "      <td>-11.739865</td>\n",
       "      <td>-39.739865</td>\n",
       "    </tr>\n",
       "    <tr>\n",
       "      <th>6</th>\n",
       "      <td>-1.0</td>\n",
       "      <td>1.0</td>\n",
       "      <td>-1.0</td>\n",
       "      <td>8.0</td>\n",
       "      <td>3.723675</td>\n",
       "      <td>11.723675</td>\n",
       "    </tr>\n",
       "    <tr>\n",
       "      <th>7</th>\n",
       "      <td>-1.0</td>\n",
       "      <td>1.0</td>\n",
       "      <td>0.0</td>\n",
       "      <td>-19.0</td>\n",
       "      <td>12.170628</td>\n",
       "      <td>-6.829372</td>\n",
       "    </tr>\n",
       "    <tr>\n",
       "      <th>8</th>\n",
       "      <td>-1.0</td>\n",
       "      <td>1.0</td>\n",
       "      <td>1.0</td>\n",
       "      <td>-46.0</td>\n",
       "      <td>-8.845418</td>\n",
       "      <td>-54.845418</td>\n",
       "    </tr>\n",
       "    <tr>\n",
       "      <th>9</th>\n",
       "      <td>0.0</td>\n",
       "      <td>-1.0</td>\n",
       "      <td>-1.0</td>\n",
       "      <td>-5.0</td>\n",
       "      <td>-4.818355</td>\n",
       "      <td>-9.818355</td>\n",
       "    </tr>\n",
       "    <tr>\n",
       "      <th>10</th>\n",
       "      <td>0.0</td>\n",
       "      <td>-1.0</td>\n",
       "      <td>0.0</td>\n",
       "      <td>-2.0</td>\n",
       "      <td>7.787515</td>\n",
       "      <td>5.787515</td>\n",
       "    </tr>\n",
       "    <tr>\n",
       "      <th>11</th>\n",
       "      <td>0.0</td>\n",
       "      <td>-1.0</td>\n",
       "      <td>1.0</td>\n",
       "      <td>1.0</td>\n",
       "      <td>4.671500</td>\n",
       "      <td>5.671500</td>\n",
       "    </tr>\n",
       "    <tr>\n",
       "      <th>12</th>\n",
       "      <td>0.0</td>\n",
       "      <td>0.0</td>\n",
       "      <td>-1.0</td>\n",
       "      <td>-3.0</td>\n",
       "      <td>3.449180</td>\n",
       "      <td>0.449180</td>\n",
       "    </tr>\n",
       "    <tr>\n",
       "      <th>13</th>\n",
       "      <td>0.0</td>\n",
       "      <td>0.0</td>\n",
       "      <td>0.0</td>\n",
       "      <td>0.0</td>\n",
       "      <td>-11.940103</td>\n",
       "      <td>-11.940103</td>\n",
       "    </tr>\n",
       "    <tr>\n",
       "      <th>14</th>\n",
       "      <td>0.0</td>\n",
       "      <td>0.0</td>\n",
       "      <td>1.0</td>\n",
       "      <td>3.0</td>\n",
       "      <td>-8.498443</td>\n",
       "      <td>-5.498443</td>\n",
       "    </tr>\n",
       "    <tr>\n",
       "      <th>15</th>\n",
       "      <td>0.0</td>\n",
       "      <td>1.0</td>\n",
       "      <td>-1.0</td>\n",
       "      <td>-1.0</td>\n",
       "      <td>-3.116178</td>\n",
       "      <td>-4.116178</td>\n",
       "    </tr>\n",
       "    <tr>\n",
       "      <th>16</th>\n",
       "      <td>0.0</td>\n",
       "      <td>1.0</td>\n",
       "      <td>0.0</td>\n",
       "      <td>2.0</td>\n",
       "      <td>6.638529</td>\n",
       "      <td>8.638529</td>\n",
       "    </tr>\n",
       "    <tr>\n",
       "      <th>17</th>\n",
       "      <td>0.0</td>\n",
       "      <td>1.0</td>\n",
       "      <td>1.0</td>\n",
       "      <td>5.0</td>\n",
       "      <td>-3.787045</td>\n",
       "      <td>1.212955</td>\n",
       "    </tr>\n",
       "    <tr>\n",
       "      <th>18</th>\n",
       "      <td>1.0</td>\n",
       "      <td>-1.0</td>\n",
       "      <td>-1.0</td>\n",
       "      <td>-54.0</td>\n",
       "      <td>-3.621238</td>\n",
       "      <td>-57.621238</td>\n",
       "    </tr>\n",
       "    <tr>\n",
       "      <th>19</th>\n",
       "      <td>1.0</td>\n",
       "      <td>-1.0</td>\n",
       "      <td>0.0</td>\n",
       "      <td>-21.0</td>\n",
       "      <td>-10.890684</td>\n",
       "      <td>-31.890684</td>\n",
       "    </tr>\n",
       "    <tr>\n",
       "      <th>20</th>\n",
       "      <td>1.0</td>\n",
       "      <td>-1.0</td>\n",
       "      <td>1.0</td>\n",
       "      <td>12.0</td>\n",
       "      <td>-0.002973</td>\n",
       "      <td>11.997027</td>\n",
       "    </tr>\n",
       "    <tr>\n",
       "      <th>21</th>\n",
       "      <td>1.0</td>\n",
       "      <td>0.0</td>\n",
       "      <td>-1.0</td>\n",
       "      <td>-32.0</td>\n",
       "      <td>4.882739</td>\n",
       "      <td>-27.117261</td>\n",
       "    </tr>\n",
       "    <tr>\n",
       "      <th>22</th>\n",
       "      <td>1.0</td>\n",
       "      <td>0.0</td>\n",
       "      <td>0.0</td>\n",
       "      <td>1.0</td>\n",
       "      <td>-24.206063</td>\n",
       "      <td>-23.206063</td>\n",
       "    </tr>\n",
       "    <tr>\n",
       "      <th>23</th>\n",
       "      <td>1.0</td>\n",
       "      <td>0.0</td>\n",
       "      <td>1.0</td>\n",
       "      <td>34.0</td>\n",
       "      <td>-11.414313</td>\n",
       "      <td>22.585687</td>\n",
       "    </tr>\n",
       "    <tr>\n",
       "      <th>24</th>\n",
       "      <td>1.0</td>\n",
       "      <td>1.0</td>\n",
       "      <td>-1.0</td>\n",
       "      <td>-10.0</td>\n",
       "      <td>16.936789</td>\n",
       "      <td>6.936789</td>\n",
       "    </tr>\n",
       "    <tr>\n",
       "      <th>25</th>\n",
       "      <td>1.0</td>\n",
       "      <td>1.0</td>\n",
       "      <td>0.0</td>\n",
       "      <td>23.0</td>\n",
       "      <td>12.791252</td>\n",
       "      <td>35.791252</td>\n",
       "    </tr>\n",
       "    <tr>\n",
       "      <th>26</th>\n",
       "      <td>1.0</td>\n",
       "      <td>1.0</td>\n",
       "      <td>1.0</td>\n",
       "      <td>56.0</td>\n",
       "      <td>3.730814</td>\n",
       "      <td>59.730814</td>\n",
       "    </tr>\n",
       "  </tbody>\n",
       "</table>\n",
       "</div>"
      ],
      "text/plain": [
       "     x1   x2   x3     u        eta          y\n",
       "0  -1.0 -1.0 -1.0  44.0   5.626853  49.626853\n",
       "1  -1.0 -1.0  0.0  17.0 -13.404959   3.595041\n",
       "2  -1.0 -1.0  1.0 -10.0   1.505348  -8.494652\n",
       "3  -1.0  0.0 -1.0  26.0  -1.133659  24.866341\n",
       "4  -1.0  0.0  0.0  -1.0  13.999932  12.999932\n",
       "5  -1.0  0.0  1.0 -28.0 -11.739865 -39.739865\n",
       "6  -1.0  1.0 -1.0   8.0   3.723675  11.723675\n",
       "7  -1.0  1.0  0.0 -19.0  12.170628  -6.829372\n",
       "8  -1.0  1.0  1.0 -46.0  -8.845418 -54.845418\n",
       "9   0.0 -1.0 -1.0  -5.0  -4.818355  -9.818355\n",
       "10  0.0 -1.0  0.0  -2.0   7.787515   5.787515\n",
       "11  0.0 -1.0  1.0   1.0   4.671500   5.671500\n",
       "12  0.0  0.0 -1.0  -3.0   3.449180   0.449180\n",
       "13  0.0  0.0  0.0   0.0 -11.940103 -11.940103\n",
       "14  0.0  0.0  1.0   3.0  -8.498443  -5.498443\n",
       "15  0.0  1.0 -1.0  -1.0  -3.116178  -4.116178\n",
       "16  0.0  1.0  0.0   2.0   6.638529   8.638529\n",
       "17  0.0  1.0  1.0   5.0  -3.787045   1.212955\n",
       "18  1.0 -1.0 -1.0 -54.0  -3.621238 -57.621238\n",
       "19  1.0 -1.0  0.0 -21.0 -10.890684 -31.890684\n",
       "20  1.0 -1.0  1.0  12.0  -0.002973  11.997027\n",
       "21  1.0  0.0 -1.0 -32.0   4.882739 -27.117261\n",
       "22  1.0  0.0  0.0   1.0 -24.206063 -23.206063\n",
       "23  1.0  0.0  1.0  34.0 -11.414313  22.585687\n",
       "24  1.0  1.0 -1.0 -10.0  16.936789   6.936789\n",
       "25  1.0  1.0  0.0  23.0  12.791252  35.791252\n",
       "26  1.0  1.0  1.0  56.0   3.730814  59.730814"
      ]
     },
     "execution_count": 110,
     "metadata": {},
     "output_type": "execute_result"
    }
   ],
   "source": [
    "df = pd.DataFrame(columns=np.array([\"x1\", \"x2\", \"x3\", \"u\", \"eta\", \"y\"]))\n",
    "\n",
    "for i in range(len(x_test)):\n",
    "    df.loc[len(df)] = np.array([x_test[i][0], x_test[i][1], x_test[i][2], list_u[i], list_deviation_1[i], y_test[i]])\n",
    "\n",
    "with pd.ExcelWriter(os.path.abspath(\".\\Results.xlsx\")) as writter:\n",
    "    df.to_excel(writter, sheet_name=\"Results\", float_format=\"%.2f\", index=False)\n",
    "df"
   ]
  },
  {
   "cell_type": "markdown",
   "metadata": {},
   "source": [
    "# Лаба 2\n",
    "### Получение матрицы X"
   ]
  },
  {
   "cell_type": "code",
   "execution_count": 73,
   "metadata": {},
   "outputs": [],
   "source": [
    "def calc_matrix_X(list_x : list) -> np.matrix:\n",
    "    return np.matrix([[x[0], x[1], x[2], x[0]*x[1], x[0]*x[2]] for x in list_x])\n",
    "\n",
    "X = calc_matrix_X(x_test)"
   ]
  },
  {
   "cell_type": "markdown",
   "metadata": {},
   "source": [
    "### Вычисление тэта с крышечкой"
   ]
  },
  {
   "cell_type": "code",
   "execution_count": 106,
   "metadata": {},
   "outputs": [
    {
     "data": {
      "text/plain": [
       "array([ 0.23909926,  4.9661133 , -0.12834444, 22.88767552, 30.11767012])"
      ]
     },
     "execution_count": 106,
     "metadata": {},
     "output_type": "execute_result"
    }
   ],
   "source": [
    "teta_calc = (np.linalg.inv(X.T @ X) @ X.T) @ y_test\n",
    "teta_calc = np.asarray(teta_calc)[0]\n",
    "teta_calc"
   ]
  },
  {
   "cell_type": "markdown",
   "metadata": {},
   "source": [
    "### Вычисление вектора остатков"
   ]
  },
  {
   "cell_type": "code",
   "execution_count": 119,
   "metadata": {},
   "outputs": [
    {
     "data": {
      "text/plain": [
       "array([ 1.69837535e+00, -1.40874220e+01,  4.06889941e+00, -5.14057394e+00,\n",
       "        1.32390311e+01, -9.25475096e+00, -3.61678393e-01,  1.13312895e+01,\n",
       "       -6.43874156e+00, -4.98058584e+00,  1.07536284e+01,  1.07659581e+01,\n",
       "        3.20835118e-01, -1.19401034e+01, -5.37009852e+00, -9.21063538e+00,\n",
       "        3.67241594e+00, -3.62481344e+00, -1.72226755e-02, -4.27599461e+00,\n",
       "        9.62239085e+00,  2.63296541e+00, -2.34451624e+01, -7.64273834e+00,\n",
       "        8.83322613e+00,  7.69836398e+00,  1.64860022e+00])"
      ]
     },
     "execution_count": 119,
     "metadata": {},
     "output_type": "execute_result"
    }
   ],
   "source": [
    "I = np.eye(len(x_test))\n",
    "y_calc = X @ teta_calc\n",
    "y_calc = np.asarray(y_calc)[0]\n",
    "e_calc = y_test - y_calc\n",
    "e_calc = np.asarray(e_calc)\n",
    "e_calc"
   ]
  },
  {
   "cell_type": "markdown",
   "metadata": {},
   "source": [
    "### Считаем дисперсию"
   ]
  },
  {
   "cell_type": "code",
   "execution_count": 123,
   "metadata": {},
   "outputs": [
    {
     "data": {
      "text/plain": [
       "np.float64(94.56610727240522)"
      ]
     },
     "execution_count": 123,
     "metadata": {},
     "output_type": "execute_result"
    }
   ],
   "source": [
    "eta_calc = e_calc.T @ e_calc / (27 - 5)\n",
    "eta_calc"
   ]
  },
  {
   "cell_type": "code",
   "execution_count": 124,
   "metadata": {},
   "outputs": [
    {
     "data": {
      "text/plain": [
       "np.float64(1.292538685487917)"
      ]
     },
     "execution_count": 124,
     "metadata": {},
     "output_type": "execute_result"
    }
   ],
   "source": [
    "eta_calc/eta"
   ]
  },
  {
   "cell_type": "markdown",
   "metadata": {},
   "source": [
    "### Построение таблицы"
   ]
  },
  {
   "cell_type": "code",
   "execution_count": 122,
   "metadata": {},
   "outputs": [],
   "source": [
    "df2 = pd.DataFrame(columns=np.array([\"y\", \"y^\", \"y-y^\"]))\n",
    "\n",
    "\n",
    "for i in range(len(y_test)):\n",
    "    df2.loc[len(df2)] = np.array([y_test[i], y_calc[i], e_calc[i]])\n",
    "\n",
    "with pd.ExcelWriter(os.path.abspath(\".\\Result_2.xlsx\")) as writter:\n",
    "    df2.to_excel(writter, sheet_name=\"Result2\", index=False, float_format=\"%.2f\")"
   ]
  }
 ],
 "metadata": {
  "kernelspec": {
   "display_name": "STAT",
   "language": "python",
   "name": "python3"
  },
  "language_info": {
   "codemirror_mode": {
    "name": "ipython",
    "version": 3
   },
   "file_extension": ".py",
   "mimetype": "text/x-python",
   "name": "python",
   "nbconvert_exporter": "python",
   "pygments_lexer": "ipython3",
   "version": "3.9.7"
  }
 },
 "nbformat": 4,
 "nbformat_minor": 2
}
